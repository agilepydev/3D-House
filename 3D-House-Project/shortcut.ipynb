{
 "cells": [
  {
   "cell_type": "markdown",
   "id": "40911f6f",
   "metadata": {},
   "source": [
    "# Project"
   ]
  },
  {
   "cell_type": "markdown",
   "id": "6f961a56",
   "metadata": {},
   "source": [
    "#### 1. Extract Files"
   ]
  },
  {
   "cell_type": "code",
   "execution_count": 1,
   "id": "6a6ff16c",
   "metadata": {},
   "outputs": [],
   "source": [
    "import zipfile"
   ]
  },
  {
   "cell_type": "code",
   "execution_count": 7,
   "id": "96acfd18",
   "metadata": {},
   "outputs": [
    {
     "name": "stdout",
     "output_type": "stream",
     "text": [
      "Downloading DSM 9\n",
      "successfully downloaded\n"
     ]
    }
   ],
   "source": [
    "import requests, os #requests(3rd party Module)\n",
    "\n",
    "dir_path = os.path.join(os.getcwd(),'DSM')\n",
    "if not os.path.exists(dir_path):\n",
    "    os.mkdir(dir_path)\n",
    "\n",
    "for num in range(9,9 + 1):\n",
    "    \n",
    "    url = \"https://downloadagiv.blob.core.windows.net/dhm-vlaanderen-ii-dsm-raster-1m/DHMVIIDSMRAS1m_k\"+(\"0\" if num < 9 else \"\")+str(num)+\".zip\"\n",
    "\n",
    "    print(f'Downloading DSM {num}')\n",
    "    response = requests.get(url,stream = True)\n",
    "    \n",
    "    if response.status_code == 200: # status code is 200, it means it's working.\n",
    "        \n",
    "        with open(os.path.join(dir_path,f'DSM-{num}.zip'), 'wb') as file:\n",
    "            for block in response.iter_content(chunk_size=1024):\n",
    "                file.write(block)\n",
    "\n",
    "print('successfully downloaded')"
   ]
  },
  {
   "cell_type": "markdown",
   "id": "b7954646",
   "metadata": {},
   "source": [
    "#### Everything in DSM is downloaded, now download DTM"
   ]
  },
  {
   "cell_type": "code",
   "execution_count": 2,
   "id": "f7868915",
   "metadata": {},
   "outputs": [
    {
     "name": "stdout",
     "output_type": "stream",
     "text": [
      "Downloading DTM 9\n",
      "successfully downloaded\n"
     ]
    }
   ],
   "source": [
    "import requests, os #requests(3rd party Module)\n",
    "\n",
    "dir_path = os.path.join(os.getcwd(),'DTM')\n",
    "if not os.path.exists(dir_path):\n",
    "    os.mkdir(dir_path)\n",
    "\n",
    "for num in range(9,9 + 1):\n",
    "    \n",
    "    url = \"https://downloadagiv.blob.core.windows.net/dhm-vlaanderen-ii-dtm-raster-1m/DHMVIIDTMRAS1m_k\"+(\"0\" if num < 9 else \"\")+str(num)+\".zip\"\n",
    "\n",
    "    print(f'Downloading DTM {num}')\n",
    "    response = requests.get(url,stream = True)\n",
    "    \n",
    "    if response.status_code == 200: # status code is 200, it means it's working.\n",
    "        \n",
    "        with open(os.path.join(dir_path,f'DTM-{num}.zip'), 'wb') as file:\n",
    "            for block in response.iter_content(chunk_size=1024):\n",
    "                file.write(block)\n",
    "\n",
    "print('successfully downloaded')"
   ]
  },
  {
   "cell_type": "code",
   "execution_count": null,
   "id": "fc3698d9",
   "metadata": {},
   "outputs": [],
   "source": []
  }
 ],
 "metadata": {
  "kernelspec": {
   "display_name": "Python 3 (ipykernel)",
   "language": "python",
   "name": "python3"
  },
  "language_info": {
   "codemirror_mode": {
    "name": "ipython",
    "version": 3
   },
   "file_extension": ".py",
   "mimetype": "text/x-python",
   "name": "python",
   "nbconvert_exporter": "python",
   "pygments_lexer": "ipython3",
   "version": "3.8.12"
  }
 },
 "nbformat": 4,
 "nbformat_minor": 5
}
