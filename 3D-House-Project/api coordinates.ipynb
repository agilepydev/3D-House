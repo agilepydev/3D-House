{
 "cells": [
  {
   "cell_type": "markdown",
   "id": "fdda765f",
   "metadata": {},
   "source": [
    "### API for coordinates"
   ]
  },
  {
   "cell_type": "code",
   "execution_count": 8,
   "id": "b1166f02",
   "metadata": {},
   "outputs": [],
   "source": [
    "import requests\n",
    "import numpy as np\n",
    "import pandas as pd\n",
    "import json"
   ]
  },
  {
   "cell_type": "code",
   "execution_count": 13,
   "id": "4a9cafd2",
   "metadata": {},
   "outputs": [
    {
     "name": "stdout",
     "output_type": "stream",
     "text": [
      "Enter the  address: Sint-Veerleplein 11 9000 Gent\n"
     ]
    }
   ],
   "source": [
    "address = input(\"Enter the  address: \") "
   ]
  },
  {
   "cell_type": "code",
   "execution_count": 14,
   "id": "67961a76",
   "metadata": {},
   "outputs": [],
   "source": [
    "def get_coordinates(address: str):\n",
    "    req = requests.get(f\"https://loc.geopunt.be/v4/Location?q={address}\").json()\n",
    "    info = {'address' : address, \n",
    "                'x_value' : req['LocationResult'][0]['Location']['X_Lambert72'],\n",
    "                'y_value' : req['LocationResult'][0]['Location']['Y_Lambert72'],\n",
    "                'street' : req['LocationResult'][0]['Thoroughfarename'],\n",
    "                'house_number' : req['LocationResult'][0]['Housenumber'], \n",
    "                'postcode': req['LocationResult'][0]['Zipcode'], \n",
    "                'municipality' : req['LocationResult'][0]['Municipality']}\n",
    "    \n",
    "    detail = requests.get(\"https://api.basisregisters.vlaanderen.be/v1/adresmatch\", \n",
    "                          params={\"postcode\": info['postcode'], \n",
    "                                  \"straatnaam\": info['street'],\n",
    "                                  \"huisnummer\": info['house_number']}).json()\n",
    "    building = requests.get(detail['adresMatches'][0]['adresseerbareObjecten'][0]['detail']).json()\n",
    "    build = requests.get(building['gebouw']['detail']).json()\n",
    "    info['polygon'] = [build['geometriePolygoon']['polygon']]\n",
    "    return info['polygon'][0]['coordinates'][0] "
   ]
  },
  {
   "cell_type": "code",
   "execution_count": 15,
   "id": "18da114d",
   "metadata": {},
   "outputs": [
    {
     "data": {
      "text/plain": [
       "[[104594.1234998703, 194294.18976890296],\n",
       " [104588.81265186518, 194296.49325690418],\n",
       " [104585.20394786447, 194287.56500089914],\n",
       " [104587.39946786314, 194287.0782168992],\n",
       " [104586.86762785912, 194285.23168889806],\n",
       " [104587.48791586608, 194283.7977048941],\n",
       " [104587.7096118629, 194283.69031289592],\n",
       " [104587.93233186007, 194283.59047289565],\n",
       " [104588.15684386343, 194283.5057368949],\n",
       " [104588.38429986686, 194283.44378489628],\n",
       " [104588.6154678613, 194283.41216889396],\n",
       " [104588.74692386389, 194283.40999289602],\n",
       " [104588.87940386683, 194283.41844089702],\n",
       " [104589.01239586622, 194283.43610489368],\n",
       " [104589.14551586658, 194283.4617048949],\n",
       " [104589.27812386304, 194283.49383289367],\n",
       " [104589.47626786679, 194283.55309689417],\n",
       " [104589.66890786588, 194283.6263128966],\n",
       " [104589.85233186185, 194283.715272896],\n",
       " [104590.02308386564, 194283.82202489674],\n",
       " [104590.17757986486, 194283.94848889485],\n",
       " [104590.31223586202, 194284.09389689565],\n",
       " [104590.4301238656, 194284.2559448965],\n",
       " [104590.53367586434, 194284.4297688976],\n",
       " [104590.62583586574, 194284.61088889465],\n",
       " [104590.70903586596, 194284.79444089532],\n",
       " [104590.77239586413, 194284.94010489807],\n",
       " [104593.18877986819, 194283.82074489444],\n",
       " [104593.9671478644, 194285.8602968976],\n",
       " [104605.81239587814, 194281.2854488939],\n",
       " [104605.17725987732, 194279.64077689126],\n",
       " [104605.37501987815, 194279.5682008937],\n",
       " [104606.64132387936, 194279.09978489205],\n",
       " [104606.91921187937, 194279.79706489295],\n",
       " [104606.92772387713, 194279.81908089295],\n",
       " [104607.2521398738, 194280.63175289333],\n",
       " [104609.11076387763, 194279.94797689468],\n",
       " [104609.49713187665, 194280.95085689425],\n",
       " [104607.42417187989, 194281.7196248956],\n",
       " [104608.74001187831, 194285.32282489538],\n",
       " [104610.64849188179, 194284.62586489692],\n",
       " [104610.93572387844, 194285.51802489534],\n",
       " [104609.27223587781, 194286.18144889548],\n",
       " [104609.87210787833, 194287.71258489788],\n",
       " [104608.39837987721, 194288.36948090047],\n",
       " [104607.69745187461, 194286.73018489778],\n",
       " [104602.16209187359, 194288.74362489954],\n",
       " [104596.06033186615, 194291.79476090148],\n",
       " [104596.508715868, 194293.15527290106],\n",
       " [104594.1234998703, 194294.18976890296]]"
      ]
     },
     "execution_count": 15,
     "metadata": {},
     "output_type": "execute_result"
    }
   ],
   "source": [
    "adresss_coordination = get_coordinates(address)\n",
    "adresss_coordination"
   ]
  },
  {
   "cell_type": "code",
   "execution_count": null,
   "id": "79a32ef2",
   "metadata": {},
   "outputs": [],
   "source": []
  }
 ],
 "metadata": {
  "kernelspec": {
   "display_name": "Python 3 (ipykernel)",
   "language": "python",
   "name": "python3"
  },
  "language_info": {
   "codemirror_mode": {
    "name": "ipython",
    "version": 3
   },
   "file_extension": ".py",
   "mimetype": "text/x-python",
   "name": "python",
   "nbconvert_exporter": "python",
   "pygments_lexer": "ipython3",
   "version": "3.8.12"
  }
 },
 "nbformat": 4,
 "nbformat_minor": 5
}
