{
 "cells": [
  {
   "cell_type": "markdown",
   "id": "fdda765f",
   "metadata": {},
   "source": [
    "### API for coordinates"
   ]
  },
  {
   "cell_type": "code",
   "execution_count": 3,
   "id": "b1166f02",
   "metadata": {},
   "outputs": [],
   "source": [
    "import requests\n",
    "import numpy as np\n",
    "import pandas as pd\n",
    "import json"
   ]
  },
  {
   "cell_type": "code",
   "execution_count": 14,
   "id": "4a9cafd2",
   "metadata": {},
   "outputs": [
    {
     "name": "stdout",
     "output_type": "stream",
     "text": [
      "Enter the  address: Sint-Pietersvliet 7 2000 Antwerpen\n"
     ]
    }
   ],
   "source": [
    "address = input(\"Enter the  address: \") "
   ]
  },
  {
   "cell_type": "code",
   "execution_count": 15,
   "id": "67961a76",
   "metadata": {},
   "outputs": [],
   "source": [
    "def get_coordinates(address: str):\n",
    "    req = requests.get(f\"https://loc.geopunt.be/v4/Location?q={address}\").json()\n",
    "    info = {'address' : address, \n",
    "                'x_value' : req['LocationResult'][0]['Location']['X_Lambert72'],\n",
    "                'y_value' : req['LocationResult'][0]['Location']['Y_Lambert72'],\n",
    "                'street' : req['LocationResult'][0]['Thoroughfarename'],\n",
    "                'house_number' : req['LocationResult'][0]['Housenumber'], \n",
    "                'postcode': req['LocationResult'][0]['Zipcode'], \n",
    "                'municipality' : req['LocationResult'][0]['Municipality']}\n",
    "    \n",
    "    detail = requests.get(\"https://api.basisregisters.vlaanderen.be/v1/adresmatch\", \n",
    "                          params={\"postcode\": info['postcode'], \n",
    "                                  \"straatnaam\": info['street'],\n",
    "                                  \"huisnummer\": info['house_number']}).json()\n",
    "    building = requests.get(detail['adresMatches'][0]['adresseerbareObjecten'][0]['detail']).json()\n",
    "    build = requests.get(building['gebouw']['detail']).json()\n",
    "    info['polygon'] = [build['geometriePolygoon']['polygon']]\n",
    "    return info['polygon'][0]['coordinates'][0] "
   ]
  },
  {
   "cell_type": "code",
   "execution_count": 16,
   "id": "18da114d",
   "metadata": {},
   "outputs": [
    {
     "data": {
      "text/plain": [
       "[[152234.7539967969, 212884.87605375424],\n",
       " [152234.82894080132, 212884.9189977534],\n",
       " [152234.7067647949, 212885.13282175362],\n",
       " [152234.54202879965, 212885.42107775435],\n",
       " [152221.9368447885, 212878.215253748],\n",
       " [152216.66906878352, 212875.20392574742],\n",
       " [152215.47796478122, 212874.52302974463],\n",
       " [152215.7520127818, 212874.04302974418],\n",
       " [152215.85204478353, 212874.10197374597],\n",
       " [152216.04097278416, 212873.7709657438],\n",
       " [152225.4219647944, 212857.33397373557],\n",
       " [152225.34394878894, 212857.28994173557],\n",
       " [152231.24206079543, 212846.96808572486],\n",
       " [152231.36404479295, 212847.0380377248],\n",
       " [152246.52404480428, 212820.42696570978],\n",
       " [152246.43796480447, 212820.37493370846],\n",
       " [152246.70881280303, 212819.90990970656],\n",
       " [152246.73498880863, 212819.8649817072],\n",
       " [152246.9969408065, 212820.01717370749],\n",
       " [152247.5319168046, 212820.3279577084],\n",
       " [152249.9582208097, 212816.06210170686],\n",
       " [152251.11796481162, 212814.0229977034],\n",
       " [152251.02298881114, 212814.00994170457],\n",
       " [152251.31399680674, 212813.5079897046],\n",
       " [152268.9353088215, 212823.58363771066],\n",
       " [152268.96398082376, 212823.60002170876],\n",
       " [152268.93748482317, 212823.64891771227],\n",
       " [152268.69492482394, 212824.0969177112],\n",
       " [152268.59905282408, 212824.04501371086],\n",
       " [152267.0589568168, 212826.7189337127],\n",
       " [152264.98196481913, 212830.32507771626],\n",
       " [152265.57895682007, 212830.66510971636],\n",
       " [152265.7790208161, 212830.7790297158],\n",
       " [152265.76641281694, 212830.80117371678],\n",
       " [152265.50599681586, 212831.2580057159],\n",
       " [152265.41204481572, 212831.20398971438],\n",
       " [152255.79194881022, 212847.97896572575],\n",
       " [152255.90804481506, 212848.04699772596],\n",
       " [152253.85601281375, 212851.56002172828],\n",
       " [152253.7879808098, 212851.52002172917],\n",
       " [152250.20596481115, 212857.8059737347],\n",
       " [152250.2789888084, 212857.8480217345],\n",
       " [152246.09703680873, 212865.1149657406],\n",
       " [152246.01594880223, 212865.06894974038],\n",
       " [152244.21095680445, 212868.27803774178],\n",
       " [152244.29594880342, 212868.32699774206],\n",
       " [152242.26292480528, 212871.89698174223],\n",
       " [152242.18196479976, 212871.85096574202],\n",
       " [152234.7539967969, 212884.87605375424]]"
      ]
     },
     "execution_count": 16,
     "metadata": {},
     "output_type": "execute_result"
    }
   ],
   "source": [
    "adresss_coordination = get_coordinates(address)\n",
    "adresss_coordination"
   ]
  },
  {
   "cell_type": "code",
   "execution_count": null,
   "id": "79a32ef2",
   "metadata": {},
   "outputs": [],
   "source": []
  }
 ],
 "metadata": {
  "kernelspec": {
   "display_name": "Python 3 (ipykernel)",
   "language": "python",
   "name": "python3"
  },
  "language_info": {
   "codemirror_mode": {
    "name": "ipython",
    "version": 3
   },
   "file_extension": ".py",
   "mimetype": "text/x-python",
   "name": "python",
   "nbconvert_exporter": "python",
   "pygments_lexer": "ipython3",
   "version": "3.8.12"
  }
 },
 "nbformat": 4,
 "nbformat_minor": 5
}
