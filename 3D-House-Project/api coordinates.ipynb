{
 "cells": [
  {
   "cell_type": "markdown",
   "id": "fdda765f",
   "metadata": {},
   "source": [
    "### API for coordinates"
   ]
  },
  {
   "cell_type": "code",
   "execution_count": 2,
   "id": "b1166f02",
   "metadata": {},
   "outputs": [],
   "source": [
    "import requests\n",
    "import numpy as np\n",
    "import pandas as pd\n",
    "import json\n",
    "import geopandas as gpd\n",
    "import rioxarray\n",
    "import rasterio\n",
    "from rasterio import mask\n",
    "import geojson\n",
    "import matplotlib as plt\n",
    "from matplotlib import pyplot as plt\n",
    "import geopandas\n",
    "from shapely.geometry import box\n",
    "import georasters as gr\n",
    "from osgeo import gdal\n",
    "%matplotlib inline"
   ]
  },
  {
   "cell_type": "code",
   "execution_count": 3,
   "id": "4a9cafd2",
   "metadata": {},
   "outputs": [],
   "source": [
    "address = \"Dreveneind 1, 2910 Essen\" "
   ]
  },
  {
   "cell_type": "code",
   "execution_count": 4,
   "id": "67961a76",
   "metadata": {},
   "outputs": [],
   "source": [
    "def get_coordinates(address: str):\n",
    "    req = requests.get(f\"https://loc.geopunt.be/v4/Location?q={address}\").json()\n",
    "    info = {'address' : address, \n",
    "                'x_value' : req['LocationResult'][0]['Location']['X_Lambert72'],\n",
    "                'y_value' : req['LocationResult'][0]['Location']['Y_Lambert72'],\n",
    "                'street' : req['LocationResult'][0]['Thoroughfarename'],\n",
    "                'house_number' : req['LocationResult'][0]['Housenumber'], \n",
    "                'postcode': req['LocationResult'][0]['Zipcode'], \n",
    "                'municipality' : req['LocationResult'][0]['Municipality']}\n",
    "    \n",
    "    detail = requests.get(\"https://api.basisregisters.vlaanderen.be/v1/adresmatch\", \n",
    "                          params={\"postcode\": info['postcode'], \n",
    "                                  \"straatnaam\": info['street'],\n",
    "                                  \"huisnummer\": info['house_number']}).json()\n",
    "    building = requests.get(detail['adresMatches'][0]['adresseerbareObjecten'][0]['detail']).json()\n",
    "    build = requests.get(building['gebouw']['detail']).json()\n",
    "    info['polygon'] = [build['geometriePolygoon']['polygon']]\n",
    "    return info['polygon'][0]['coordinates'][0] "
   ]
  },
  {
   "cell_type": "code",
   "execution_count": 5,
   "id": "18da114d",
   "metadata": {},
   "outputs": [
    {
     "data": {
      "text/plain": [
       "[[159362.70088172704, 239936.7117844522],\n",
       " [159351.41384171695, 239941.70557645336],\n",
       " [159347.94644971192, 239934.70359244943],\n",
       " [159342.96244971454, 239937.03754445165],\n",
       " [159338.10510570556, 239926.8673684448],\n",
       " [159341.3973937109, 239925.33898444474],\n",
       " [159341.5757617131, 239925.69533644244],\n",
       " [159342.15035370737, 239925.4817044437],\n",
       " [159343.78683371097, 239924.87306444347],\n",
       " [159345.2128817141, 239928.08138444647],\n",
       " [159343.59444971383, 239928.81956044585],\n",
       " [159343.1514417082, 239929.02167244628],\n",
       " [159344.22536171228, 239931.28880844638],\n",
       " [159344.5845297128, 239931.10794444755],\n",
       " [159346.35835371166, 239930.21488844603],\n",
       " [159346.8604977131, 239931.15453644842],\n",
       " [159347.06555371732, 239931.53828044608],\n",
       " [159358.13678572327, 239926.30180044472],\n",
       " [159362.70088172704, 239936.7117844522]]"
      ]
     },
     "execution_count": 5,
     "metadata": {},
     "output_type": "execute_result"
    }
   ],
   "source": [
    "polygon = get_coordinates(address)\n",
    "polygon"
   ]
  },
  {
   "cell_type": "code",
   "execution_count": 6,
   "id": "79a32ef2",
   "metadata": {},
   "outputs": [],
   "source": [
    "from shapely.geometry import Polygon"
   ]
  },
  {
   "cell_type": "code",
   "execution_count": 7,
   "id": "78ea5bf2",
   "metadata": {},
   "outputs": [
    {
     "data": {
      "image/svg+xml": [
       "<svg xmlns=\"http://www.w3.org/2000/svg\" xmlns:xlink=\"http://www.w3.org/1999/xlink\" width=\"100.0\" height=\"100.0\" viewBox=\"159337.1212746647 239923.88923340262 26.563438103185035 18.800174091593362\" preserveAspectRatio=\"xMinYMin meet\"><g transform=\"matrix(1,0,0,-1,0,479866.5786408968)\"><path fill-rule=\"evenodd\" fill=\"#66cc99\" stroke=\"#555555\" stroke-width=\"0.5312687620637007\" opacity=\"0.6\" d=\"M 159362.70088172704,239936.7117844522 L 159351.41384171695,239941.70557645336 L 159347.94644971192,239934.70359244943 L 159342.96244971454,239937.03754445165 L 159338.10510570556,239926.8673684448 L 159341.3973937109,239925.33898444474 L 159341.5757617131,239925.69533644244 L 159342.15035370737,239925.4817044437 L 159343.78683371097,239924.87306444347 L 159345.2128817141,239928.08138444647 L 159343.59444971383,239928.81956044585 L 159343.1514417082,239929.02167244628 L 159344.22536171228,239931.28880844638 L 159344.5845297128,239931.10794444755 L 159346.35835371166,239930.21488844603 L 159346.8604977131,239931.15453644842 L 159347.06555371732,239931.53828044608 L 159358.13678572327,239926.30180044472 L 159362.70088172704,239936.7117844522 z\" /></g></svg>"
      ],
      "text/plain": [
       "<shapely.geometry.polygon.Polygon at 0x7f86a84e3a60>"
      ]
     },
     "execution_count": 7,
     "metadata": {},
     "output_type": "execute_result"
    }
   ],
   "source": [
    "polygon_shapely = Polygon(polygon)\n",
    "polygon_shapely"
   ]
  },
  {
   "cell_type": "code",
   "execution_count": 8,
   "id": "8e615e0f",
   "metadata": {},
   "outputs": [
    {
     "data": {
      "text/plain": [
       "(159338.10510570556,\n",
       " 159362.70088172704,\n",
       " 239924.87306444347,\n",
       " 239941.70557645336)"
      ]
     },
     "execution_count": 8,
     "metadata": {},
     "output_type": "execute_result"
    }
   ],
   "source": [
    "x_polygon = [x[0] for x in polygon]\n",
    "y_polygon = [x[1] for x in polygon]\n",
    "\n",
    "x_left = min(x_polygon)\n",
    "x_right = max(x_polygon)\n",
    "y_bottom = min(y_polygon)\n",
    "y_top = max(y_polygon)\n",
    "\n",
    "(x_left, x_right, y_bottom, y_top)"
   ]
  },
  {
   "cell_type": "code",
   "execution_count": 9,
   "id": "e1fa2217",
   "metadata": {},
   "outputs": [],
   "source": [
    "import shapefile"
   ]
  },
  {
   "cell_type": "code",
   "execution_count": 10,
   "id": "c3eaeff2",
   "metadata": {},
   "outputs": [],
   "source": [
    "write = shapefile.Writer(\"shapefiles/test/polygon\")\n",
    "write.field(\"name\", \"C\")\n",
    "\n",
    "write.poly([polygon])\n",
    "write.record(\"polygon_1\")\n",
    "\n",
    "write.close()"
   ]
  },
  {
   "cell_type": "code",
   "execution_count": 11,
   "id": "fa64d4dc",
   "metadata": {},
   "outputs": [
    {
     "data": {
      "text/plain": [
       "'/home/becode/3D-House/3D-House-Project'"
      ]
     },
     "execution_count": 11,
     "metadata": {},
     "output_type": "execute_result"
    }
   ],
   "source": [
    "pwd"
   ]
  },
  {
   "cell_type": "code",
   "execution_count": 12,
   "id": "d93dad45",
   "metadata": {},
   "outputs": [
    {
     "data": {
      "text/plain": [
       "[159362.70088172704, 239936.7117844522]"
      ]
     },
     "execution_count": 12,
     "metadata": {},
     "output_type": "execute_result"
    }
   ],
   "source": [
    "polygon[0]"
   ]
  },
  {
   "cell_type": "code",
   "execution_count": 13,
   "id": "e9d54c9a",
   "metadata": {},
   "outputs": [
    {
     "data": {
      "text/plain": [
       "<AxesSubplot:>"
      ]
     },
     "execution_count": 13,
     "metadata": {},
     "output_type": "execute_result"
    },
    {
     "data": {
      "image/png": "[encoded data removed]",
      "text/plain": [
       "<Figure size 432x288 with 1 Axes>"
      ]
     },
     "metadata": {
      "needs_background": "light"
     },
     "output_type": "display_data"
    }
   ],
   "source": [
    "# Read test file\n",
    "\n",
    "path = \"/home/becode/3D-House/3D-House-Project/shapefiles/test/polygon.shp\"\n",
    "test = gpd.read_file(path)\n",
    "test.plot()"
   ]
  },
  {
   "cell_type": "code",
   "execution_count": 14,
   "id": "f3efaff6",
   "metadata": {},
   "outputs": [
    {
     "ename": "ValueError",
     "evalue": "geometry must be a GeoJSON-like geometry, GeometryCollection, or FeatureCollection",
     "output_type": "error",
     "traceback": [
      "\u001b[0;31m---------------------------------------------------------------------------\u001b[0m",
      "\u001b[0;31mValueError\u001b[0m                                Traceback (most recent call last)",
      "\u001b[0;32m/tmp/ipykernel_15227/2249234090.py\u001b[0m in \u001b[0;36m<module>\u001b[0;34m\u001b[0m\n\u001b[1;32m      1\u001b[0m \u001b[0mgeometries\u001b[0m \u001b[0;34m=\u001b[0m \u001b[0;34m[\u001b[0m\u001b[0;34m{\u001b[0m\u001b[0;34m\"Type\"\u001b[0m\u001b[0;34m:\u001b[0m \u001b[0;34m\"Polygon\"\u001b[0m\u001b[0;34m,\u001b[0m \u001b[0;34m\"Coordinate Points\"\u001b[0m\u001b[0;34m:\u001b[0m \u001b[0mpolygon\u001b[0m\u001b[0;34m}\u001b[0m\u001b[0;34m]\u001b[0m\u001b[0;34m\u001b[0m\u001b[0;34m\u001b[0m\u001b[0m\n\u001b[0;32m----> 2\u001b[0;31m xds = rioxarray.open_rasterio(\n\u001b[0m\u001b[1;32m      3\u001b[0m     \"Data/DSM/DSM-1/GeoTIFF/DHMVIIDSMRAS1m_k01.tif\", masked = True).rio.clip(geometries, from_disk=True)\n\u001b[1;32m      4\u001b[0m \u001b[0mxds\u001b[0m\u001b[0;34m.\u001b[0m\u001b[0mplot\u001b[0m\u001b[0;34m(\u001b[0m\u001b[0;34m)\u001b[0m\u001b[0;34m\u001b[0m\u001b[0;34m\u001b[0m\u001b[0m\n",
      "\u001b[0;32m~/anaconda3/envs/Project/lib/python3.8/site-packages/rioxarray/raster_array.py\u001b[0m in \u001b[0;36mclip\u001b[0;34m(self, geometries, crs, all_touched, drop, invert, from_disk)\u001b[0m\n\u001b[1;32m    765\u001b[0m         \u001b[0mcropped_ds\u001b[0m \u001b[0;34m=\u001b[0m \u001b[0;32mNone\u001b[0m\u001b[0;34m\u001b[0m\u001b[0;34m\u001b[0m\u001b[0m\n\u001b[1;32m    766\u001b[0m         \u001b[0;32mif\u001b[0m \u001b[0mfrom_disk\u001b[0m\u001b[0;34m:\u001b[0m\u001b[0;34m\u001b[0m\u001b[0;34m\u001b[0m\u001b[0m\n\u001b[0;32m--> 767\u001b[0;31m             cropped_ds = _clip_from_disk(\n\u001b[0m\u001b[1;32m    768\u001b[0m                 \u001b[0mself\u001b[0m\u001b[0;34m.\u001b[0m\u001b[0m_obj\u001b[0m\u001b[0;34m,\u001b[0m\u001b[0;34m\u001b[0m\u001b[0;34m\u001b[0m\u001b[0m\n\u001b[1;32m    769\u001b[0m                 \u001b[0mgeometries\u001b[0m\u001b[0;34m=\u001b[0m\u001b[0mgeometries\u001b[0m\u001b[0;34m,\u001b[0m\u001b[0;34m\u001b[0m\u001b[0;34m\u001b[0m\u001b[0m\n",
      "\u001b[0;32m~/anaconda3/envs/Project/lib/python3.8/site-packages/rioxarray/raster_array.py\u001b[0m in \u001b[0;36m_clip_from_disk\u001b[0;34m(xds, geometries, all_touched, drop, invert)\u001b[0m\n\u001b[1;32m    141\u001b[0m     \"\"\"\n\u001b[1;32m    142\u001b[0m     \u001b[0;32mtry\u001b[0m\u001b[0;34m:\u001b[0m\u001b[0;34m\u001b[0m\u001b[0;34m\u001b[0m\u001b[0m\n\u001b[0;32m--> 143\u001b[0;31m         out_image, out_transform = rasterio.mask.mask(\n\u001b[0m\u001b[1;32m    144\u001b[0m             \u001b[0mxds\u001b[0m\u001b[0;34m.\u001b[0m\u001b[0mrio\u001b[0m\u001b[0;34m.\u001b[0m\u001b[0m_manager\u001b[0m\u001b[0;34m.\u001b[0m\u001b[0macquire\u001b[0m\u001b[0;34m(\u001b[0m\u001b[0;34m)\u001b[0m\u001b[0;34m,\u001b[0m\u001b[0;34m\u001b[0m\u001b[0;34m\u001b[0m\u001b[0m\n\u001b[1;32m    145\u001b[0m             \u001b[0mgeometries\u001b[0m\u001b[0;34m,\u001b[0m\u001b[0;34m\u001b[0m\u001b[0;34m\u001b[0m\u001b[0m\n",
      "\u001b[0;32m~/anaconda3/envs/Project/lib/python3.8/site-packages/rasterio/mask.py\u001b[0m in \u001b[0;36mmask\u001b[0;34m(dataset, shapes, all_touched, invert, nodata, filled, crop, pad, pad_width, indexes)\u001b[0m\n\u001b[1;32m    176\u001b[0m             \u001b[0mnodata\u001b[0m \u001b[0;34m=\u001b[0m \u001b[0;36m0\u001b[0m\u001b[0;34m\u001b[0m\u001b[0;34m\u001b[0m\u001b[0m\n\u001b[1;32m    177\u001b[0m \u001b[0;34m\u001b[0m\u001b[0m\n\u001b[0;32m--> 178\u001b[0;31m     shape_mask, transform, window = raster_geometry_mask(\n\u001b[0m\u001b[1;32m    179\u001b[0m         \u001b[0mdataset\u001b[0m\u001b[0;34m,\u001b[0m \u001b[0mshapes\u001b[0m\u001b[0;34m,\u001b[0m \u001b[0mall_touched\u001b[0m\u001b[0;34m=\u001b[0m\u001b[0mall_touched\u001b[0m\u001b[0;34m,\u001b[0m \u001b[0minvert\u001b[0m\u001b[0;34m=\u001b[0m\u001b[0minvert\u001b[0m\u001b[0;34m,\u001b[0m \u001b[0mcrop\u001b[0m\u001b[0;34m=\u001b[0m\u001b[0mcrop\u001b[0m\u001b[0;34m,\u001b[0m\u001b[0;34m\u001b[0m\u001b[0;34m\u001b[0m\u001b[0m\n\u001b[1;32m    180\u001b[0m         pad=pad, pad_width=pad_width)\n",
      "\u001b[0;32m~/anaconda3/envs/Project/lib/python3.8/site-packages/rasterio/mask.py\u001b[0m in \u001b[0;36mraster_geometry_mask\u001b[0;34m(dataset, shapes, all_touched, invert, crop, pad, pad_width)\u001b[0m\n\u001b[1;32m     78\u001b[0m \u001b[0;34m\u001b[0m\u001b[0m\n\u001b[1;32m     79\u001b[0m     \u001b[0;32mtry\u001b[0m\u001b[0;34m:\u001b[0m\u001b[0;34m\u001b[0m\u001b[0;34m\u001b[0m\u001b[0m\n\u001b[0;32m---> 80\u001b[0;31m         \u001b[0mwindow\u001b[0m \u001b[0;34m=\u001b[0m \u001b[0mgeometry_window\u001b[0m\u001b[0;34m(\u001b[0m\u001b[0mdataset\u001b[0m\u001b[0;34m,\u001b[0m \u001b[0mshapes\u001b[0m\u001b[0;34m,\u001b[0m \u001b[0mpad_x\u001b[0m\u001b[0;34m=\u001b[0m\u001b[0mpad_x\u001b[0m\u001b[0;34m,\u001b[0m \u001b[0mpad_y\u001b[0m\u001b[0;34m=\u001b[0m\u001b[0mpad_y\u001b[0m\u001b[0;34m)\u001b[0m\u001b[0;34m\u001b[0m\u001b[0;34m\u001b[0m\u001b[0m\n\u001b[0m\u001b[1;32m     81\u001b[0m \u001b[0;34m\u001b[0m\u001b[0m\n\u001b[1;32m     82\u001b[0m     \u001b[0;32mexcept\u001b[0m \u001b[0mWindowError\u001b[0m\u001b[0;34m:\u001b[0m\u001b[0;34m\u001b[0m\u001b[0;34m\u001b[0m\u001b[0m\n",
      "\u001b[0;32m~/anaconda3/envs/Project/lib/python3.8/site-packages/rasterio/features.py\u001b[0m in \u001b[0;36mgeometry_window\u001b[0;34m(dataset, shapes, pad_x, pad_y, north_up, rotated, pixel_precision, boundless)\u001b[0m\n\u001b[1;32m    439\u001b[0m     \"\"\"\n\u001b[1;32m    440\u001b[0m \u001b[0;34m\u001b[0m\u001b[0m\n\u001b[0;32m--> 441\u001b[0;31m     \u001b[0mall_bounds\u001b[0m \u001b[0;34m=\u001b[0m \u001b[0;34m[\u001b[0m\u001b[0mbounds\u001b[0m\u001b[0;34m(\u001b[0m\u001b[0mshape\u001b[0m\u001b[0;34m,\u001b[0m \u001b[0mtransform\u001b[0m\u001b[0;34m=\u001b[0m\u001b[0;34m~\u001b[0m\u001b[0mdataset\u001b[0m\u001b[0;34m.\u001b[0m\u001b[0mtransform\u001b[0m\u001b[0;34m)\u001b[0m \u001b[0;32mfor\u001b[0m \u001b[0mshape\u001b[0m \u001b[0;32min\u001b[0m \u001b[0mshapes\u001b[0m\u001b[0;34m]\u001b[0m\u001b[0;34m\u001b[0m\u001b[0;34m\u001b[0m\u001b[0m\n\u001b[0m\u001b[1;32m    442\u001b[0m \u001b[0;34m\u001b[0m\u001b[0m\n\u001b[1;32m    443\u001b[0m     cols = [\n",
      "\u001b[0;32m~/anaconda3/envs/Project/lib/python3.8/site-packages/rasterio/features.py\u001b[0m in \u001b[0;36m<listcomp>\u001b[0;34m(.0)\u001b[0m\n\u001b[1;32m    439\u001b[0m     \"\"\"\n\u001b[1;32m    440\u001b[0m \u001b[0;34m\u001b[0m\u001b[0m\n\u001b[0;32m--> 441\u001b[0;31m     \u001b[0mall_bounds\u001b[0m \u001b[0;34m=\u001b[0m \u001b[0;34m[\u001b[0m\u001b[0mbounds\u001b[0m\u001b[0;34m(\u001b[0m\u001b[0mshape\u001b[0m\u001b[0;34m,\u001b[0m \u001b[0mtransform\u001b[0m\u001b[0;34m=\u001b[0m\u001b[0;34m~\u001b[0m\u001b[0mdataset\u001b[0m\u001b[0;34m.\u001b[0m\u001b[0mtransform\u001b[0m\u001b[0;34m)\u001b[0m \u001b[0;32mfor\u001b[0m \u001b[0mshape\u001b[0m \u001b[0;32min\u001b[0m \u001b[0mshapes\u001b[0m\u001b[0;34m]\u001b[0m\u001b[0;34m\u001b[0m\u001b[0;34m\u001b[0m\u001b[0m\n\u001b[0m\u001b[1;32m    442\u001b[0m \u001b[0;34m\u001b[0m\u001b[0m\n\u001b[1;32m    443\u001b[0m     cols = [\n",
      "\u001b[0;32m~/anaconda3/envs/Project/lib/python3.8/site-packages/rasterio/features.py\u001b[0m in \u001b[0;36mbounds\u001b[0;34m(geometry, north_up, transform)\u001b[0m\n\u001b[1;32m    383\u001b[0m     \u001b[0;31m# geometry must be a geometry, GeometryCollection, or FeatureCollection\u001b[0m\u001b[0;34m\u001b[0m\u001b[0;34m\u001b[0m\u001b[0;34m\u001b[0m\u001b[0m\n\u001b[1;32m    384\u001b[0m     \u001b[0;32mif\u001b[0m \u001b[0;32mnot\u001b[0m \u001b[0;34m(\u001b[0m\u001b[0;34m'coordinates'\u001b[0m \u001b[0;32min\u001b[0m \u001b[0mgeom\u001b[0m \u001b[0;32mor\u001b[0m \u001b[0;34m'geometries'\u001b[0m \u001b[0;32min\u001b[0m \u001b[0mgeom\u001b[0m \u001b[0;32mor\u001b[0m \u001b[0;34m'features'\u001b[0m \u001b[0;32min\u001b[0m \u001b[0mgeom\u001b[0m\u001b[0;34m)\u001b[0m\u001b[0;34m:\u001b[0m\u001b[0;34m\u001b[0m\u001b[0;34m\u001b[0m\u001b[0m\n\u001b[0;32m--> 385\u001b[0;31m         raise ValueError(\n\u001b[0m\u001b[1;32m    386\u001b[0m             \u001b[0;34m\"geometry must be a GeoJSON-like geometry, GeometryCollection, \"\u001b[0m\u001b[0;34m\u001b[0m\u001b[0;34m\u001b[0m\u001b[0m\n\u001b[1;32m    387\u001b[0m             \u001b[0;34m\"or FeatureCollection\"\u001b[0m\u001b[0;34m\u001b[0m\u001b[0;34m\u001b[0m\u001b[0m\n",
      "\u001b[0;31mValueError\u001b[0m: geometry must be a GeoJSON-like geometry, GeometryCollection, or FeatureCollection"
     ]
    }
   ],
   "source": [
    "geometries = [{\"Type\": \"Polygon\", \"Coordinate Points\": polygon}]\n",
    "xds = rioxarray.open_rasterio(\n",
    "    \"Data/DSM/DSM-1/GeoTIFF/DHMVIIDSMRAS1m_k01.tif\", masked = True).rio.clip(geometries, from_disk=True)\n",
    "xds.plot()"
   ]
  },
  {
   "cell_type": "code",
   "execution_count": null,
   "id": "e1115bc5",
   "metadata": {},
   "outputs": [],
   "source": []
  }
 ],
 "metadata": {
  "kernelspec": {
   "display_name": "Python 3 (ipykernel)",
   "language": "python",
   "name": "python3"
  },
  "language_info": {
   "codemirror_mode": {
    "name": "ipython",
    "version": 3
   },
   "file_extension": ".py",
   "mimetype": "text/x-python",
   "name": "python",
   "nbconvert_exporter": "python",
   "pygments_lexer": "ipython3",
   "version": "3.8.12"
  }
 },
 "nbformat": 4,
 "nbformat_minor": 5
}
