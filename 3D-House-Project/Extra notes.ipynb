{
 "cells": [
  {
   "cell_type": "markdown",
   "id": "e0bd5e58",
   "metadata": {},
   "source": [
    "### Extra things"
   ]
  },
  {
   "cell_type": "code",
   "execution_count": 1,
   "id": "ff663712",
   "metadata": {},
   "outputs": [],
   "source": [
    "# Just another way of opening the file.\n",
    "# georasters\n",
    "#surface = gr.from_file(r'Data/DSM/DSM-1/GeoTIFF/DHMVIIDSMRAS1m_k01.tif')\n",
    "#surface.plot()\n",
    "#surface = surface.to_pandas()\n",
    "#surface.head()"
   ]
  },
  {
   "cell_type": "code",
   "execution_count": null,
   "id": "dcfafc89",
   "metadata": {},
   "outputs": [],
   "source": [
    "# Plotting a histogram using rasterio\n",
    "#from rasterio.plot import show_hist\n",
    "#show_hist(img)\n",
    "#show_hist(img, bins=100)"
   ]
  }
 ],
 "metadata": {
  "kernelspec": {
   "display_name": "Python 3 (ipykernel)",
   "language": "python",
   "name": "python3"
  },
  "language_info": {
   "codemirror_mode": {
    "name": "ipython",
    "version": 3
   },
   "file_extension": ".py",
   "mimetype": "text/x-python",
   "name": "python",
   "nbconvert_exporter": "python",
   "pygments_lexer": "ipython3",
   "version": "3.8.12"
  }
 },
 "nbformat": 4,
 "nbformat_minor": 5
}
