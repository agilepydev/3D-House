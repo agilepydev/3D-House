{
 "cells": [
  {
   "cell_type": "markdown",
   "id": "dd5e86b6",
   "metadata": {},
   "source": [
    "### Crop building other way"
   ]
  },
  {
   "cell_type": "code",
   "execution_count": 2,
   "id": "ad811342",
   "metadata": {},
   "outputs": [],
   "source": [
    "# Resource: https://corteva.github.io/rioxarray/stable/examples/clip_geom.html"
   ]
  },
  {
   "cell_type": "code",
   "execution_count": 3,
   "id": "e66d95c5",
   "metadata": {},
   "outputs": [],
   "source": [
    "# Libraries\n",
    "import requests\n",
    "import numpy as np\n",
    "import pandas as pd\n",
    "import json\n",
    "import geopandas as gpd\n",
    "import rioxarray\n",
    "import rasterio\n",
    "from rasterio import mask\n",
    "import geojson\n",
    "import matplotlib as plt\n",
    "from matplotlib import pyplot as plt\n",
    "import geopandas\n",
    "from shapely.geometry import box\n",
    "%matplotlib inline"
   ]
  },
  {
   "cell_type": "code",
   "execution_count": 4,
   "id": "5671de0c",
   "metadata": {},
   "outputs": [],
   "source": [
    "polygon = [[159362.70088172704, 239936.7117844522],\n",
    " [159351.41384171695, 239941.70557645336],\n",
    " [159347.94644971192, 239934.70359244943],\n",
    " [159342.96244971454, 239937.03754445165],\n",
    " [159338.10510570556, 239926.8673684448],\n",
    " [159341.3973937109, 239925.33898444474],\n",
    " [159341.5757617131, 239925.69533644244],\n",
    " [159342.15035370737, 239925.4817044437],\n",
    " [159343.78683371097, 239924.87306444347],\n",
    " [159345.2128817141, 239928.08138444647],\n",
    " [159343.59444971383, 239928.81956044585],\n",
    " [159343.1514417082, 239929.02167244628],\n",
    " [159344.22536171228, 239931.28880844638],\n",
    " [159344.5845297128, 239931.10794444755],\n",
    " [159346.35835371166, 239930.21488844603],\n",
    " [159346.8604977131, 239931.15453644842],\n",
    " [159347.06555371732, 239931.53828044608],\n",
    " [159358.13678572327, 239926.30180044472],\n",
    " [159362.70088172704, 239936.7117844522]]"
   ]
  },
  {
   "cell_type": "code",
   "execution_count": null,
   "id": "15baeb45",
   "metadata": {},
   "outputs": [
    {
     "data": {
      "text/plain": [
       "<matplotlib.collections.QuadMesh at 0x7f0bf2585a00>"
      ]
     },
     "execution_count": 5,
     "metadata": {},
     "output_type": "execute_result"
    }
   ],
   "source": [
    "geometry = [{\"Type\": \"Polygon\", \"Coordinate Points\": polygon}]\n",
    "xds = rioxarray.open_rasterio(\"Data/DSM/DSM-1/GeoTIFF/DHMVIIDSMRAS1m_k01.tif\", masked = True)\n",
    "xds.plot()"
   ]
  },
  {
   "cell_type": "code",
   "execution_count": null,
   "id": "28e4f5f7",
   "metadata": {},
   "outputs": [],
   "source": []
  }
 ],
 "metadata": {
  "kernelspec": {
   "display_name": "Python 3 (ipykernel)",
   "language": "python",
   "name": "python3"
  },
  "language_info": {
   "codemirror_mode": {
    "name": "ipython",
    "version": 3
   },
   "file_extension": ".py",
   "mimetype": "text/x-python",
   "name": "python",
   "nbconvert_exporter": "python",
   "pygments_lexer": "ipython3",
   "version": "3.8.12"
  }
 },
 "nbformat": 4,
 "nbformat_minor": 5
}
