{
 "cells": [
  {
   "cell_type": "markdown",
   "id": "29f8eb5d",
   "metadata": {},
   "source": [
    "##### Canopy height models (CHM) are a measurement of the height of trees, buildings, and other structures above the ground topography. ... A canopy height model is calculated by subtracting the digital terrain model (DTM) from the digital surface model (DSM)"
   ]
  },
  {
   "cell_type": "code",
   "execution_count": 1,
   "id": "945ecc4b",
   "metadata": {},
   "outputs": [],
   "source": [
    "from osgeo import gdal\n",
    "import rasterio\n",
    "import numpy as np\n",
    "import matplotlib as plt\n",
    "from rasterio.plot import show\n",
    "import pandas as pd\n",
    "import georasters as gr\n",
    "import geopandas as gpd\n",
    "from matplotlib import pyplot as plt"
   ]
  },
  {
   "cell_type": "markdown",
   "id": "04ff1b3b",
   "metadata": {},
   "source": [
    "#### DSM"
   ]
  },
  {
   "cell_type": "code",
   "execution_count": 16,
   "id": "aded1ae3",
   "metadata": {},
   "outputs": [
    {
     "data": {
      "text/plain": [
       "array([[[-9.999e+03, -9.999e+03, -9.999e+03, ...,  1.275e+01,\n",
       "          1.279e+01,  1.280e+01],\n",
       "        [-9.999e+03, -9.999e+03, -9.999e+03, ...,  1.280e+01,\n",
       "          1.281e+01,  1.284e+01],\n",
       "        [-9.999e+03, -9.999e+03, -9.999e+03, ...,  1.284e+01,\n",
       "          1.283e+01,  1.288e+01],\n",
       "        ...,\n",
       "        [ 4.520e+00,  4.550e+00,  4.570e+00, ...,  1.680e+01,\n",
       "          1.693e+01,  1.690e+01],\n",
       "        [ 4.490e+00,  4.570e+00,  4.580e+00, ...,  1.691e+01,\n",
       "          1.691e+01,  1.695e+01],\n",
       "        [ 4.480e+00,  4.550e+00,  4.570e+00, ...,  1.687e+01,\n",
       "          1.688e+01,  1.691e+01]]], dtype=float32)"
      ]
     },
     "execution_count": 16,
     "metadata": {},
     "output_type": "execute_result"
    }
   ],
   "source": [
    "ds = gdal.Open('Data/DSM/DSM-1/GeoTIFF/DHMVIIDSMRAS1m_k01.tif')\n",
    "fp = r'Data/DSM/DSM-1/GeoTIFF/DHMVIIDSMRAS1m_k01.tif'\n",
    "DSM_img = rasterio.open(fp)\n",
    "raster_array_DSM = DSM_img.read()\n",
    "raster_array_DSM"
   ]
  },
  {
   "cell_type": "markdown",
   "id": "37ab2344",
   "metadata": {},
   "source": [
    "#### DTM"
   ]
  },
  {
   "cell_type": "code",
   "execution_count": 18,
   "id": "dba515c7",
   "metadata": {},
   "outputs": [
    {
     "data": {
      "text/plain": [
       "array([[[-9.999e+03, -9.999e+03, -9.999e+03, ...,  1.275e+01,\n",
       "          1.279e+01,  1.280e+01],\n",
       "        [-9.999e+03, -9.999e+03, -9.999e+03, ...,  1.280e+01,\n",
       "          1.281e+01,  1.284e+01],\n",
       "        [-9.999e+03, -9.999e+03, -9.999e+03, ...,  1.284e+01,\n",
       "          1.283e+01,  1.288e+01],\n",
       "        ...,\n",
       "        [ 4.520e+00,  4.550e+00,  4.570e+00, ...,  1.680e+01,\n",
       "          1.693e+01,  1.690e+01],\n",
       "        [ 4.490e+00,  4.570e+00,  4.580e+00, ...,  1.691e+01,\n",
       "          1.691e+01,  1.693e+01],\n",
       "        [ 4.480e+00,  4.550e+00,  4.570e+00, ...,  1.686e+01,\n",
       "          1.688e+01,  1.690e+01]]], dtype=float32)"
      ]
     },
     "execution_count": 18,
     "metadata": {},
     "output_type": "execute_result"
    }
   ],
   "source": [
    "fp_DTM = r'Data/DTM/DTM-1/GeoTIFF/DHMVIIDTMRAS1m_k01.tif'\n",
    "DTM_img = rasterio.open(fp_DTM)\n",
    "raster_array_DTM = DTM_img.read()\n",
    "raster_array_DTM"
   ]
  },
  {
   "cell_type": "markdown",
   "id": "b44ac927",
   "metadata": {},
   "source": [
    "#### CHM"
   ]
  },
  {
   "cell_type": "code",
   "execution_count": 19,
   "id": "820dde4d",
   "metadata": {},
   "outputs": [
    {
     "data": {
      "text/plain": [
       "array([[[0.        , 0.        , 0.        , ..., 0.        ,\n",
       "         0.        , 0.        ],\n",
       "        [0.        , 0.        , 0.        , ..., 0.        ,\n",
       "         0.        , 0.        ],\n",
       "        [0.        , 0.        , 0.        , ..., 0.        ,\n",
       "         0.        , 0.        ],\n",
       "        ...,\n",
       "        [0.        , 0.        , 0.        , ..., 0.        ,\n",
       "         0.        , 0.        ],\n",
       "        [0.        , 0.        , 0.        , ..., 0.        ,\n",
       "         0.        , 0.02000046],\n",
       "        [0.        , 0.        , 0.        , ..., 0.01000023,\n",
       "         0.        , 0.01000023]]], dtype=float32)"
      ]
     },
     "execution_count": 19,
     "metadata": {},
     "output_type": "execute_result"
    }
   ],
   "source": [
    "raster_array_DSM - raster_array_DTM"
   ]
  },
  {
   "cell_type": "code",
   "execution_count": null,
   "id": "d20ca5cb",
   "metadata": {},
   "outputs": [],
   "source": []
  }
 ],
 "metadata": {
  "kernelspec": {
   "display_name": "Python 3 (ipykernel)",
   "language": "python",
   "name": "python3"
  },
  "language_info": {
   "codemirror_mode": {
    "name": "ipython",
    "version": 3
   },
   "file_extension": ".py",
   "mimetype": "text/x-python",
   "name": "python",
   "nbconvert_exporter": "python",
   "pygments_lexer": "ipython3",
   "version": "3.8.12"
  }
 },
 "nbformat": 4,
 "nbformat_minor": 5
}
