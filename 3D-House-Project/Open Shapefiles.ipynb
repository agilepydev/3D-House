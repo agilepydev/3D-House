{
 "cells": [
  {
   "cell_type": "markdown",
   "id": "23398bdd",
   "metadata": {},
   "source": [
    "## Open shapefiles"
   ]
  },
  {
   "cell_type": "code",
   "execution_count": 16,
   "id": "21e3bb7f",
   "metadata": {},
   "outputs": [],
   "source": [
    "import pandas as pd\n",
    "import geopandas as gpd\n",
    "from shapely.geometry import Point\n",
    "import numpy as np\n",
    "import matplotlib.pyplot as plt\n",
    "%matplotlib inline"
   ]
  },
  {
   "cell_type": "code",
   "execution_count": 15,
   "id": "40dc7d4c",
   "metadata": {},
   "outputs": [
    {
     "data": {
      "text/plain": [
       "'/home/becode/3D-House/3D-House-Project'"
      ]
     },
     "execution_count": 15,
     "metadata": {},
     "output_type": "execute_result"
    }
   ],
   "source": [
    "pwd"
   ]
  },
  {
   "cell_type": "code",
   "execution_count": 14,
   "id": "7ffc28ff",
   "metadata": {},
   "outputs": [
    {
     "data": {
      "text/html": [
       "<div>\n",
       "<style scoped>\n",
       "    .dataframe tbody tr th:only-of-type {\n",
       "        vertical-align: middle;\n",
       "    }\n",
       "\n",
       "    .dataframe tbody tr th {\n",
       "        vertical-align: top;\n",
       "    }\n",
       "\n",
       "    .dataframe thead th {\n",
       "        text-align: right;\n",
       "    }\n",
       "</style>\n",
       "<table border=\"1\" class=\"dataframe\">\n",
       "  <thead>\n",
       "    <tr style=\"text-align: right;\">\n",
       "      <th></th>\n",
       "      <th>Id</th>\n",
       "      <th>OpnDatum1</th>\n",
       "      <th>OpnDatum2</th>\n",
       "      <th>geometry</th>\n",
       "    </tr>\n",
       "  </thead>\n",
       "  <tbody>\n",
       "    <tr>\n",
       "      <th>0</th>\n",
       "      <td>0</td>\n",
       "      <td>2013-02-20</td>\n",
       "      <td>None</td>\n",
       "      <td>MULTIPOLYGON Z (((162079.010 238604.770 0.000,...</td>\n",
       "    </tr>\n",
       "    <tr>\n",
       "      <th>1</th>\n",
       "      <td>0</td>\n",
       "      <td>2013-04-01</td>\n",
       "      <td>None</td>\n",
       "      <td>POLYGON Z ((148803.300 243432.780 0.000, 14882...</td>\n",
       "    </tr>\n",
       "    <tr>\n",
       "      <th>2</th>\n",
       "      <td>0</td>\n",
       "      <td>2013-02-20</td>\n",
       "      <td>2013-04-01</td>\n",
       "      <td>MULTIPOLYGON Z (((156554.470 243736.800 0.000,...</td>\n",
       "    </tr>\n",
       "  </tbody>\n",
       "</table>\n",
       "</div>"
      ],
      "text/plain": [
       "   Id   OpnDatum1   OpnDatum2  \\\n",
       "0   0  2013-02-20        None   \n",
       "1   0  2013-04-01        None   \n",
       "2   0  2013-02-20  2013-04-01   \n",
       "\n",
       "                                            geometry  \n",
       "0  MULTIPOLYGON Z (((162079.010 238604.770 0.000,...  \n",
       "1  POLYGON Z ((148803.300 243432.780 0.000, 14882...  \n",
       "2  MULTIPOLYGON Z (((156554.470 243736.800 0.000,...  "
      ]
     },
     "execution_count": 14,
     "metadata": {},
     "output_type": "execute_result"
    }
   ],
   "source": [
    "shapefile = gpd.read_file(\"./Data/DSM/DSM-1/DHMVII_vdc_k01/DHMVII_vdc_k01.shp\") # using geopandas\n",
    "shapefile"
   ]
  },
  {
   "cell_type": "code",
   "execution_count": 17,
   "id": "3194a02e",
   "metadata": {},
   "outputs": [
    {
     "data": {
      "text/plain": [
       "geopandas.geodataframe.GeoDataFrame"
      ]
     },
     "execution_count": 17,
     "metadata": {},
     "output_type": "execute_result"
    }
   ],
   "source": [
    "type(shapefile)"
   ]
  },
  {
   "cell_type": "code",
   "execution_count": 27,
   "id": "f6f9cc2c",
   "metadata": {},
   "outputs": [
    {
     "data": {
      "text/plain": [
       "<AxesSubplot:>"
      ]
     },
     "execution_count": 27,
     "metadata": {},
     "output_type": "execute_result"
    },
    {
     "data": {
      "image/png": "[encoded data removed]",
      "text/plain": [
       "<Figure size 432x288 with 1 Axes>"
      ]
     },
     "metadata": {
      "needs_background": "light"
     },
     "output_type": "display_data"
    }
   ],
   "source": [
    "shapefile.plot()"
   ]
  },
  {
   "cell_type": "code",
   "execution_count": null,
   "id": "41b4f06d",
   "metadata": {},
   "outputs": [],
   "source": []
  }
 ],
 "metadata": {
  "kernelspec": {
   "display_name": "Python 3 (ipykernel)",
   "language": "python",
   "name": "python3"
  },
  "language_info": {
   "codemirror_mode": {
    "name": "ipython",
    "version": 3
   },
   "file_extension": ".py",
   "mimetype": "text/x-python",
   "name": "python",
   "nbconvert_exporter": "python",
   "pygments_lexer": "ipython3",
   "version": "3.8.12"
  }
 },
 "nbformat": 4,
 "nbformat_minor": 5
}
