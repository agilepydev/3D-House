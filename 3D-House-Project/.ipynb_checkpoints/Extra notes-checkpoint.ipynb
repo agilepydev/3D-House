{
 "cells": [
  {
   "cell_type": "markdown",
   "id": "e0bd5e58",
   "metadata": {},
   "source": [
    "### Extra things"
   ]
  },
  {
   "cell_type": "code",
   "execution_count": 1,
   "id": "ff663712",
   "metadata": {},
   "outputs": [],
   "source": [
    "# Just another way of opening the file.\n",
    "# georasters\n",
    "#surface = gr.from_file(r'Data/DSM/DSM-1/GeoTIFF/DHMVIIDSMRAS1m_k01.tif')\n",
    "#surface.plot()\n",
    "#surface = surface.to_pandas()\n",
    "#surface.head()"
   ]
  },
  {
   "cell_type": "code",
   "execution_count": null,
   "id": "dcfafc89",
   "metadata": {},
   "outputs": [],
   "source": [
    "# Plotting a histogram using rasterio\n",
    "#from rasterio.plot import show_hist\n",
    "#show_hist(img)\n",
    "#show_hist(img, bins=100)"
   ]
  },
  {
   "cell_type": "code",
   "execution_count": null,
   "id": "2568a73c",
   "metadata": {},
   "outputs": [],
   "source": [
    "#PLotting\n",
    "\n",
    "\"\"\"\n",
    "size = 100\n",
    "rows = DTM_img.height\n",
    "columns = DTM_img.width\n",
    "\n",
    "x, y = np.meshgrid(np.array(100), np.array(100))\n",
    "\n",
    "image = DTM_img.read(1)[1000:1100,11000:11100]\n",
    "fig = plt.figure(figsize = (20,20))\n",
    "ax = fig.add_subplot(projection='3d')\n",
    "\n",
    "ax.plot_surface(x.T, y.T, image)\n",
    "ax.set_zlim(0, 50)\n",
    "plt.show()\n",
    "\"\"\"\n"
   ]
  }
 ],
 "metadata": {
  "kernelspec": {
   "display_name": "Python 3 (ipykernel)",
   "language": "python",
   "name": "python3"
  },
  "language_info": {
   "codemirror_mode": {
    "name": "ipython",
    "version": 3
   },
   "file_extension": ".py",
   "mimetype": "text/x-python",
   "name": "python",
   "nbconvert_exporter": "python",
   "pygments_lexer": "ipython3",
   "version": "3.8.12"
  }
 },
 "nbformat": 4,
 "nbformat_minor": 5
}
